{
 "cells": [
  {
   "cell_type": "code",
   "execution_count": 7,
   "id": "cc4adf40-36d3-4e48-a4ba-7e13489fdb34",
   "metadata": {},
   "outputs": [],
   "source": [
    "import pandas as pd\n",
    "import numpy as np\n",
    "import matplotlib.pyplot as plt"
   ]
  },
  {
   "cell_type": "code",
   "execution_count": 17,
   "id": "cd396773-dc99-4918-9940-748926e591fe",
   "metadata": {},
   "outputs": [
    {
     "data": {
      "text/html": [
       "<div>\n",
       "<style scoped>\n",
       "    .dataframe tbody tr th:only-of-type {\n",
       "        vertical-align: middle;\n",
       "    }\n",
       "\n",
       "    .dataframe tbody tr th {\n",
       "        vertical-align: top;\n",
       "    }\n",
       "\n",
       "    .dataframe thead th {\n",
       "        text-align: right;\n",
       "    }\n",
       "</style>\n",
       "<table border=\"1\" class=\"dataframe\">\n",
       "  <thead>\n",
       "    <tr style=\"text-align: right;\">\n",
       "      <th></th>\n",
       "      <th>Customer_ID</th>\n",
       "      <th>Age</th>\n",
       "      <th>Gender</th>\n",
       "      <th>Income_Level</th>\n",
       "      <th>Marital_Status</th>\n",
       "      <th>Education_Level</th>\n",
       "      <th>Occupation</th>\n",
       "      <th>Location</th>\n",
       "      <th>Purchase_Category</th>\n",
       "      <th>Purchase_Amount</th>\n",
       "      <th>...</th>\n",
       "      <th>Customer_Satisfaction</th>\n",
       "      <th>Engagement_with_Ads</th>\n",
       "      <th>Device_Used_for_Shopping</th>\n",
       "      <th>Payment_Method</th>\n",
       "      <th>Time_of_Purchase</th>\n",
       "      <th>Discount_Used</th>\n",
       "      <th>Customer_Loyalty_Program_Member</th>\n",
       "      <th>Purchase_Intent</th>\n",
       "      <th>Shipping_Preference</th>\n",
       "      <th>Time_to_Decision</th>\n",
       "    </tr>\n",
       "  </thead>\n",
       "  <tbody>\n",
       "    <tr>\n",
       "      <th>0</th>\n",
       "      <td>37-611-6911</td>\n",
       "      <td>22</td>\n",
       "      <td>Female</td>\n",
       "      <td>Middle</td>\n",
       "      <td>Married</td>\n",
       "      <td>Bachelor's</td>\n",
       "      <td>Middle</td>\n",
       "      <td>Évry</td>\n",
       "      <td>Gardening &amp; Outdoors</td>\n",
       "      <td>$333.80</td>\n",
       "      <td>...</td>\n",
       "      <td>7</td>\n",
       "      <td>NaN</td>\n",
       "      <td>Tablet</td>\n",
       "      <td>Credit Card</td>\n",
       "      <td>3/1/2024</td>\n",
       "      <td>True</td>\n",
       "      <td>False</td>\n",
       "      <td>Need-based</td>\n",
       "      <td>No Preference</td>\n",
       "      <td>2</td>\n",
       "    </tr>\n",
       "    <tr>\n",
       "      <th>1</th>\n",
       "      <td>29-392-9296</td>\n",
       "      <td>49</td>\n",
       "      <td>Male</td>\n",
       "      <td>High</td>\n",
       "      <td>Married</td>\n",
       "      <td>High School</td>\n",
       "      <td>High</td>\n",
       "      <td>Huocheng</td>\n",
       "      <td>Food &amp; Beverages</td>\n",
       "      <td>$222.22</td>\n",
       "      <td>...</td>\n",
       "      <td>5</td>\n",
       "      <td>High</td>\n",
       "      <td>Tablet</td>\n",
       "      <td>PayPal</td>\n",
       "      <td>4/16/2024</td>\n",
       "      <td>True</td>\n",
       "      <td>False</td>\n",
       "      <td>Wants-based</td>\n",
       "      <td>Standard</td>\n",
       "      <td>6</td>\n",
       "    </tr>\n",
       "    <tr>\n",
       "      <th>2</th>\n",
       "      <td>84-649-5117</td>\n",
       "      <td>24</td>\n",
       "      <td>Female</td>\n",
       "      <td>Middle</td>\n",
       "      <td>Single</td>\n",
       "      <td>Master's</td>\n",
       "      <td>High</td>\n",
       "      <td>Huzhen</td>\n",
       "      <td>Office Supplies</td>\n",
       "      <td>$426.22</td>\n",
       "      <td>...</td>\n",
       "      <td>7</td>\n",
       "      <td>Low</td>\n",
       "      <td>Smartphone</td>\n",
       "      <td>Debit Card</td>\n",
       "      <td>3/15/2024</td>\n",
       "      <td>True</td>\n",
       "      <td>True</td>\n",
       "      <td>Impulsive</td>\n",
       "      <td>No Preference</td>\n",
       "      <td>3</td>\n",
       "    </tr>\n",
       "    <tr>\n",
       "      <th>3</th>\n",
       "      <td>48-980-6078</td>\n",
       "      <td>29</td>\n",
       "      <td>Female</td>\n",
       "      <td>Middle</td>\n",
       "      <td>Single</td>\n",
       "      <td>Master's</td>\n",
       "      <td>Middle</td>\n",
       "      <td>Wiwilí</td>\n",
       "      <td>Home Appliances</td>\n",
       "      <td>$101.31</td>\n",
       "      <td>...</td>\n",
       "      <td>1</td>\n",
       "      <td>NaN</td>\n",
       "      <td>Smartphone</td>\n",
       "      <td>Other</td>\n",
       "      <td>10/4/2024</td>\n",
       "      <td>True</td>\n",
       "      <td>True</td>\n",
       "      <td>Need-based</td>\n",
       "      <td>Express</td>\n",
       "      <td>10</td>\n",
       "    </tr>\n",
       "    <tr>\n",
       "      <th>4</th>\n",
       "      <td>91-170-9072</td>\n",
       "      <td>33</td>\n",
       "      <td>Female</td>\n",
       "      <td>Middle</td>\n",
       "      <td>Widowed</td>\n",
       "      <td>High School</td>\n",
       "      <td>Middle</td>\n",
       "      <td>Nara</td>\n",
       "      <td>Furniture</td>\n",
       "      <td>$211.70</td>\n",
       "      <td>...</td>\n",
       "      <td>10</td>\n",
       "      <td>NaN</td>\n",
       "      <td>Smartphone</td>\n",
       "      <td>Debit Card</td>\n",
       "      <td>1/30/2024</td>\n",
       "      <td>False</td>\n",
       "      <td>False</td>\n",
       "      <td>Wants-based</td>\n",
       "      <td>No Preference</td>\n",
       "      <td>4</td>\n",
       "    </tr>\n",
       "  </tbody>\n",
       "</table>\n",
       "<p>5 rows × 28 columns</p>\n",
       "</div>"
      ],
      "text/plain": [
       "   Customer_ID  Age  Gender Income_Level Marital_Status Education_Level  \\\n",
       "0  37-611-6911   22  Female       Middle        Married      Bachelor's   \n",
       "1  29-392-9296   49    Male         High        Married     High School   \n",
       "2  84-649-5117   24  Female       Middle         Single        Master's   \n",
       "3  48-980-6078   29  Female       Middle         Single        Master's   \n",
       "4  91-170-9072   33  Female       Middle        Widowed     High School   \n",
       "\n",
       "  Occupation  Location     Purchase_Category Purchase_Amount  ...  \\\n",
       "0     Middle      Évry  Gardening & Outdoors        $333.80   ...   \n",
       "1       High  Huocheng      Food & Beverages        $222.22   ...   \n",
       "2       High    Huzhen       Office Supplies        $426.22   ...   \n",
       "3     Middle    Wiwilí       Home Appliances        $101.31   ...   \n",
       "4     Middle      Nara             Furniture        $211.70   ...   \n",
       "\n",
       "   Customer_Satisfaction Engagement_with_Ads  Device_Used_for_Shopping  \\\n",
       "0                      7                 NaN                    Tablet   \n",
       "1                      5                High                    Tablet   \n",
       "2                      7                 Low                Smartphone   \n",
       "3                      1                 NaN                Smartphone   \n",
       "4                     10                 NaN                Smartphone   \n",
       "\n",
       "   Payment_Method  Time_of_Purchase Discount_Used  \\\n",
       "0     Credit Card          3/1/2024          True   \n",
       "1          PayPal         4/16/2024          True   \n",
       "2      Debit Card         3/15/2024          True   \n",
       "3           Other         10/4/2024          True   \n",
       "4      Debit Card         1/30/2024         False   \n",
       "\n",
       "  Customer_Loyalty_Program_Member  Purchase_Intent  Shipping_Preference  \\\n",
       "0                           False       Need-based        No Preference   \n",
       "1                           False      Wants-based             Standard   \n",
       "2                            True        Impulsive        No Preference   \n",
       "3                            True       Need-based              Express   \n",
       "4                           False      Wants-based        No Preference   \n",
       "\n",
       "  Time_to_Decision  \n",
       "0                2  \n",
       "1                6  \n",
       "2                3  \n",
       "3               10  \n",
       "4                4  \n",
       "\n",
       "[5 rows x 28 columns]"
      ]
     },
     "execution_count": 17,
     "metadata": {},
     "output_type": "execute_result"
    }
   ],
   "source": [
    "# loading the dataset\n",
    "df =pd.read_csv(\"Downloads/Ecommerce_Consumer_Behavior_Analysis_Data.csv\")\n",
    "df.head()\n"
   ]
  },
  {
   "cell_type": "code",
   "execution_count": 19,
   "id": "8cf9f741-049e-4f04-99d7-8ec305eeaafa",
   "metadata": {},
   "outputs": [
    {
     "name": "stdout",
     "output_type": "stream",
     "text": [
      "<class 'pandas.core.frame.DataFrame'>\n",
      "RangeIndex: 1000 entries, 0 to 999\n",
      "Data columns (total 28 columns):\n",
      " #   Column                                 Non-Null Count  Dtype  \n",
      "---  ------                                 --------------  -----  \n",
      " 0   Customer_ID                            1000 non-null   object \n",
      " 1   Age                                    1000 non-null   int64  \n",
      " 2   Gender                                 1000 non-null   object \n",
      " 3   Income_Level                           1000 non-null   object \n",
      " 4   Marital_Status                         1000 non-null   object \n",
      " 5   Education_Level                        1000 non-null   object \n",
      " 6   Occupation                             1000 non-null   object \n",
      " 7   Location                               1000 non-null   object \n",
      " 8   Purchase_Category                      1000 non-null   object \n",
      " 9   Purchase_Amount                        1000 non-null   object \n",
      " 10  Frequency_of_Purchase                  1000 non-null   int64  \n",
      " 11  Purchase_Channel                       1000 non-null   object \n",
      " 12  Brand_Loyalty                          1000 non-null   int64  \n",
      " 13  Product_Rating                         1000 non-null   int64  \n",
      " 14  Time_Spent_on_Product_Research(hours)  1000 non-null   float64\n",
      " 15  Social_Media_Influence                 753 non-null    object \n",
      " 16  Discount_Sensitivity                   1000 non-null   object \n",
      " 17  Return_Rate                            1000 non-null   int64  \n",
      " 18  Customer_Satisfaction                  1000 non-null   int64  \n",
      " 19  Engagement_with_Ads                    744 non-null    object \n",
      " 20  Device_Used_for_Shopping               1000 non-null   object \n",
      " 21  Payment_Method                         1000 non-null   object \n",
      " 22  Time_of_Purchase                       1000 non-null   object \n",
      " 23  Discount_Used                          1000 non-null   bool   \n",
      " 24  Customer_Loyalty_Program_Member        1000 non-null   bool   \n",
      " 25  Purchase_Intent                        1000 non-null   object \n",
      " 26  Shipping_Preference                    1000 non-null   object \n",
      " 27  Time_to_Decision                       1000 non-null   int64  \n",
      "dtypes: bool(2), float64(1), int64(7), object(18)\n",
      "memory usage: 205.2+ KB\n"
     ]
    }
   ],
   "source": [
    "#get quick summary of the entire dataset\n",
    "df.info()"
   ]
  },
  {
   "cell_type": "code",
   "execution_count": 21,
   "id": "c1f5587c-60bd-4b05-bac2-d3155e136301",
   "metadata": {},
   "outputs": [
    {
     "data": {
      "text/html": [
       "<div>\n",
       "<style scoped>\n",
       "    .dataframe tbody tr th:only-of-type {\n",
       "        vertical-align: middle;\n",
       "    }\n",
       "\n",
       "    .dataframe tbody tr th {\n",
       "        vertical-align: top;\n",
       "    }\n",
       "\n",
       "    .dataframe thead th {\n",
       "        text-align: right;\n",
       "    }\n",
       "</style>\n",
       "<table border=\"1\" class=\"dataframe\">\n",
       "  <thead>\n",
       "    <tr style=\"text-align: right;\">\n",
       "      <th></th>\n",
       "      <th>Age</th>\n",
       "      <th>Frequency_of_Purchase</th>\n",
       "      <th>Brand_Loyalty</th>\n",
       "      <th>Product_Rating</th>\n",
       "      <th>Time_Spent_on_Product_Research(hours)</th>\n",
       "      <th>Return_Rate</th>\n",
       "      <th>Customer_Satisfaction</th>\n",
       "      <th>Time_to_Decision</th>\n",
       "    </tr>\n",
       "  </thead>\n",
       "  <tbody>\n",
       "    <tr>\n",
       "      <th>count</th>\n",
       "      <td>1000.000000</td>\n",
       "      <td>1000.000000</td>\n",
       "      <td>1000.000000</td>\n",
       "      <td>1000.000000</td>\n",
       "      <td>1000.000000</td>\n",
       "      <td>1000.000000</td>\n",
       "      <td>1000.000000</td>\n",
       "      <td>1000.000000</td>\n",
       "    </tr>\n",
       "    <tr>\n",
       "      <th>mean</th>\n",
       "      <td>34.304000</td>\n",
       "      <td>6.945000</td>\n",
       "      <td>3.026000</td>\n",
       "      <td>3.033000</td>\n",
       "      <td>1.013030</td>\n",
       "      <td>0.954000</td>\n",
       "      <td>5.399000</td>\n",
       "      <td>7.547000</td>\n",
       "    </tr>\n",
       "    <tr>\n",
       "      <th>std</th>\n",
       "      <td>9.353238</td>\n",
       "      <td>3.147361</td>\n",
       "      <td>1.416803</td>\n",
       "      <td>1.436654</td>\n",
       "      <td>0.791802</td>\n",
       "      <td>0.810272</td>\n",
       "      <td>2.868454</td>\n",
       "      <td>4.035849</td>\n",
       "    </tr>\n",
       "    <tr>\n",
       "      <th>min</th>\n",
       "      <td>18.000000</td>\n",
       "      <td>2.000000</td>\n",
       "      <td>1.000000</td>\n",
       "      <td>1.000000</td>\n",
       "      <td>0.000000</td>\n",
       "      <td>0.000000</td>\n",
       "      <td>1.000000</td>\n",
       "      <td>1.000000</td>\n",
       "    </tr>\n",
       "    <tr>\n",
       "      <th>25%</th>\n",
       "      <td>26.000000</td>\n",
       "      <td>4.000000</td>\n",
       "      <td>2.000000</td>\n",
       "      <td>2.000000</td>\n",
       "      <td>0.000000</td>\n",
       "      <td>0.000000</td>\n",
       "      <td>3.000000</td>\n",
       "      <td>4.000000</td>\n",
       "    </tr>\n",
       "    <tr>\n",
       "      <th>50%</th>\n",
       "      <td>34.500000</td>\n",
       "      <td>7.000000</td>\n",
       "      <td>3.000000</td>\n",
       "      <td>3.000000</td>\n",
       "      <td>1.000000</td>\n",
       "      <td>1.000000</td>\n",
       "      <td>5.000000</td>\n",
       "      <td>8.000000</td>\n",
       "    </tr>\n",
       "    <tr>\n",
       "      <th>75%</th>\n",
       "      <td>42.000000</td>\n",
       "      <td>10.000000</td>\n",
       "      <td>4.000000</td>\n",
       "      <td>4.000000</td>\n",
       "      <td>2.000000</td>\n",
       "      <td>2.000000</td>\n",
       "      <td>8.000000</td>\n",
       "      <td>11.000000</td>\n",
       "    </tr>\n",
       "    <tr>\n",
       "      <th>max</th>\n",
       "      <td>50.000000</td>\n",
       "      <td>12.000000</td>\n",
       "      <td>5.000000</td>\n",
       "      <td>5.000000</td>\n",
       "      <td>2.000000</td>\n",
       "      <td>2.000000</td>\n",
       "      <td>10.000000</td>\n",
       "      <td>14.000000</td>\n",
       "    </tr>\n",
       "  </tbody>\n",
       "</table>\n",
       "</div>"
      ],
      "text/plain": [
       "               Age  Frequency_of_Purchase  Brand_Loyalty  Product_Rating  \\\n",
       "count  1000.000000            1000.000000    1000.000000     1000.000000   \n",
       "mean     34.304000               6.945000       3.026000        3.033000   \n",
       "std       9.353238               3.147361       1.416803        1.436654   \n",
       "min      18.000000               2.000000       1.000000        1.000000   \n",
       "25%      26.000000               4.000000       2.000000        2.000000   \n",
       "50%      34.500000               7.000000       3.000000        3.000000   \n",
       "75%      42.000000              10.000000       4.000000        4.000000   \n",
       "max      50.000000              12.000000       5.000000        5.000000   \n",
       "\n",
       "       Time_Spent_on_Product_Research(hours)  Return_Rate  \\\n",
       "count                            1000.000000  1000.000000   \n",
       "mean                                1.013030     0.954000   \n",
       "std                                 0.791802     0.810272   \n",
       "min                                 0.000000     0.000000   \n",
       "25%                                 0.000000     0.000000   \n",
       "50%                                 1.000000     1.000000   \n",
       "75%                                 2.000000     2.000000   \n",
       "max                                 2.000000     2.000000   \n",
       "\n",
       "       Customer_Satisfaction  Time_to_Decision  \n",
       "count            1000.000000       1000.000000  \n",
       "mean                5.399000          7.547000  \n",
       "std                 2.868454          4.035849  \n",
       "min                 1.000000          1.000000  \n",
       "25%                 3.000000          4.000000  \n",
       "50%                 5.000000          8.000000  \n",
       "75%                 8.000000         11.000000  \n",
       "max                10.000000         14.000000  "
      ]
     },
     "execution_count": 21,
     "metadata": {},
     "output_type": "execute_result"
    }
   ],
   "source": [
    "df.describe()"
   ]
  },
  {
   "cell_type": "markdown",
   "id": "ec0f5388-70c3-47dd-b19c-4c62f154d293",
   "metadata": {},
   "source": [
    "# Summary from describe():\n",
    "1. Age\n",
    "The average customer age is 34.3 years, with most customers between 26 and 42 years old (IQR). The age range spans from 18 to 50, indicating a diverse customer base.\n",
    "2. Frequency_of_Purchase\n",
    "On average, customers make about 7 purchases (mean = 6.95). The values range from 2 to 12, with 50% of customers making between 4 and 10 purchases. This shows varied engagement levels.\n",
    "3. Brand_Loyalty\n",
    "Brand loyalty is measured on a 1–5 scale, with an average of 3.02. Most customers fall between 2 and 4, indicating moderate loyalty.\n",
    "4. Product_Rating\n",
    "Product ratings also follow a 1–5 scale, with a mean of 3.03 and a standard deviation of 1.43. The data is fairly spread, showing a mix of positive and negative experiences.\n",
    "5. Time_Spent_on_Product_Research (hours)\n",
    "On average, customers spend about 1 hour researching products. 25% of customers spend 0 hours, while 75% spend up to 2 hours, suggesting most users browse quickly.\n",
    "6. Customer_Satisfaction\n",
    "Satisfaction scores range from 1 to 10, with an average of 5.39. The median is 5, and 75% of users score 8 or below, suggesting opportunities to improve customer satisfaction.\n",
    "7. Time_to_Decision\n",
    "Customers take an average of 7.55 hours to make purchase decisions, with a wide spread (1 to 14 hours). Half of customers decide within 8 hours, but some take significantly longer."
   ]
  },
  {
   "cell_type": "code",
   "execution_count": 34,
   "id": "aa9f2f95-c22e-4fe8-a05b-af7d40cb5aae",
   "metadata": {},
   "outputs": [
    {
     "data": {
      "text/plain": [
       "Brand_Loyalty\n",
       "1    5.474490\n",
       "2    5.567010\n",
       "3    5.422330\n",
       "4    5.265306\n",
       "5    5.274038\n",
       "Name: Customer_Satisfaction, dtype: float64"
      ]
     },
     "execution_count": 34,
     "metadata": {},
     "output_type": "execute_result"
    }
   ],
   "source": [
    "# Group customers by their Brand Loyalty score, then find the average Customer Satisfaction for each group.\n",
    "grouped_data = df.groupby('Brand_Loyalty')['Customer_Satisfaction'].mean()\n",
    "grouped_data"
   ]
  },
  {
   "cell_type": "code",
   "execution_count": 64,
   "id": "cbfc330f-01d7-4bd4-a7e7-10c91778ad73",
   "metadata": {},
   "outputs": [
    {
     "data": {
      "image/png": "[encoded data removed]",
      "text/plain": [
       "<Figure size 800x500 with 1 Axes>"
      ]
     },
     "metadata": {},
     "output_type": "display_data"
    }
   ],
   "source": [
    "plt.figure(figsize=(8, 5))\n",
    "bars = plt.bar(grouped_data.index, grouped_data.values, color='skyblue', edgecolor='black') \n",
    "plt.title('Average Customer Satisfaction by Brand Loyalty')\n",
    "plt.xlabel('Brand Loyalty Score (1 to 5)')\n",
    "plt.ylabel('Average Satisfaction (1 to 10)')\n",
    "plt.xticks(rotation=0)\n",
    "plt.bar_label(bars, padding=2, fmt='%.2f') \n",
    "plt.ylim(0, 10) \n",
    "plt.tight_layout()\n",
    "plt.show()"
   ]
  },
  {
   "cell_type": "markdown",
   "id": "8ca570e5-7da1-4773-a501-671d803448b0",
   "metadata": {},
   "source": [
    "# Insight: \n",
    "\n",
    "1. Customers with **Brand Loyalty Score 2** reported the **highest average satisfaction** (5.57).\n",
    "2. Surprisingly, higher loyalty scores (4 and 5) are associated with **lower satisfaction** (5.27).\n",
    "3. The difference in average satisfaction across loyalty groups is **small but meaningful**.\n",
    "4. This suggests that **brand loyalty does not always guarantee higher satisfaction** — some loyal customers may have rising expectations or unresolved issues.\n",
    "\n",
    "# Business Recommendation:\n",
    "\n",
    "1. Conduct **feedback analysis** for highly loyal customers (scores 4 and 5) to understand what's driving their slightly lower satisfaction.\n",
    "2. Consider offering **exclusive support or personalized services** to retain and improve experience for top-loyalty customers.\n",
    "3. Loyalty programs should focus not just on rewards, but also on **experience consistency**.\n"
   ]
  },
  {
   "cell_type": "code",
   "execution_count": 88,
   "id": "20f9776b-9c48-4a55-8631-835b0be8075c",
   "metadata": {},
   "outputs": [],
   "source": [
    "# Group by research time and calculate average satisfaction\n",
    "grouped_data = df.groupby('Time_Spent_on_Product_Research(hours)')['Customer_Satisfaction'].mean()"
   ]
  },
  {
   "cell_type": "code",
   "execution_count": 86,
   "id": "7d13a5ee-4dcf-4b72-b1a8-8bc19b9b7d5a",
   "metadata": {},
   "outputs": [
    {
     "data": {
      "text/plain": [
       "Research_Time_Bin\n",
       "0.5–1 hr    5.188034\n",
       "0–0.5 hr    5.479751\n",
       "1.5–2 hr    5.537267\n",
       "1–1.5 hr    6.000000\n",
       "Name: Customer_Satisfaction, dtype: float64"
      ]
     },
     "execution_count": 86,
     "metadata": {},
     "output_type": "execute_result"
    }
   ],
   "source": [
    "# 1. Create time bins\n",
    "def bin_research_time(hours):\n",
    "    if hours <= 0.5:\n",
    "        return '0–0.5 hr'\n",
    "    elif hours <= 1:\n",
    "        return '0.5–1 hr'\n",
    "    elif hours <= 1.5:\n",
    "        return '1–1.5 hr'\n",
    "    else:\n",
    "        return '1.5–2 hr'\n",
    "\n",
    "df['Research_Time_Bin'] = df['Time_Spent_on_Product_Research(hours)'].apply(bin_research_time)\n",
    "\n",
    "# 2. Group by the new bins and calculate average satisfaction\n",
    "grouped_bin_data = df.groupby('Research_Time_Bin')['Customer_Satisfaction'].mean()\n",
    "grouped_bin_data"
   ]
  },
  {
   "cell_type": "code",
   "execution_count": 78,
   "id": "90857bd0-66d8-4849-b2b9-5c817456c3b8",
   "metadata": {},
   "outputs": [
    {
     "name": "stderr",
     "output_type": "stream",
     "text": [
      "C:\\Users\\aiswa\\AppData\\Local\\Temp\\ipykernel_66204\\2624624422.py:8: FutureWarning: The default of observed=False is deprecated and will be changed to True in a future version of pandas. Pass observed=False to retain current behavior or observed=True to adopt the future default and silence this warning.\n",
      "  grouped_bin_data = df.groupby('Research_Time_Bin')['Customer_Satisfaction'].mean()\n"
     ]
    },
    {
     "data": {
      "image/png": "[encoded data removed]",
      "text/plain": [
       "<Figure size 800x500 with 1 Axes>"
      ]
     },
     "metadata": {},
     "output_type": "display_data"
    }
   ],
   "source": [
    "\n",
    "# 3. Plot the cleaned-up graph\n",
    "plt.figure(figsize=(8, 5))\n",
    "bars = plt.bar(grouped_bin_data.index, grouped_bin_data.values, color='lightcoral', edgecolor='black')\n",
    "\n",
    "plt.title('Avg Satisfaction vs Research Time (Binned)')\n",
    "plt.xlabel('Time Spent on Product Research')\n",
    "plt.ylabel('Average Customer Satisfaction')\n",
    "plt.ylim(0, 10)\n",
    "plt.grid(axis='y', linestyle='--', alpha=0.5)\n",
    "plt.bar_label(bars, padding=3, fmt='%.2f')\n",
    "plt.tight_layout()\n",
    "plt.show()\n"
   ]
  },
  {
   "cell_type": "markdown",
   "id": "403ec6ac-0c2f-48b9-a2d9-8decc3556302",
   "metadata": {},
   "source": [
    "# Insight: Average Customer Satisfaction vs Time Spent on Product Research (Binned)\n",
    "\n",
    "1. The **highest satisfaction** (6.00) is seen in customers who spent **1–1.5 hours** researching — indicating that thoughtful, balanced research time positively impacts satisfaction.\n",
    "2. Customers spending **0.5–1 hour** had the **lowest average satisfaction** (5.19), possibly due to rushing through decisions or being overwhelmed.\n",
    "3. Satisfaction for those spending **less than 30 minutes** (5.48) and **over 1.5 hours** (5.54) is slightly better, but still lower than the optimal 1–1.5 hr range.\n",
    "\n",
    "# Business Recommendation:\n",
    "\n",
    "1. Optimize the product pages to **support 1–1.5 hour shoppers** by offering:\n",
    "  - Detailed specs\n",
    "  - Reviews and side-by-side comparisons\n",
    "2. For 0.5–1 hr users (lowest satisfaction group), offer **personalized product suggestions** or chatbot assistance to reduce confusion.\n",
    "3. Consider simplifying the journey or offering curated options for users researching more than 1.5 hours to prevent decision fatigue.\n"
   ]
  },
  {
   "cell_type": "code",
   "execution_count": 92,
   "id": "9644048c-dde6-4ab1-9dee-6302dbc01e76",
   "metadata": {},
   "outputs": [
    {
     "data": {
      "text/plain": [
       "Frequency_of_Purchase\n",
       "2     4.723404\n",
       "3     5.934783\n",
       "4     5.741573\n",
       "5     5.081395\n",
       "6     5.742268\n",
       "7     5.127273\n",
       "8     4.986842\n",
       "9     5.903614\n",
       "10    5.278351\n",
       "11    5.234043\n",
       "12    5.695122\n",
       "Name: Customer_Satisfaction, dtype: float64"
      ]
     },
     "execution_count": 92,
     "metadata": {},
     "output_type": "execute_result"
    }
   ],
   "source": [
    "# Group by Frequency_of_Purchase and find average satisfaction\n",
    "grouped_data = df.groupby('Frequency_of_Purchase')['Customer_Satisfaction'].mean()\n",
    "grouped_data"
   ]
  },
  {
   "cell_type": "code",
   "execution_count": 104,
   "id": "33eb0da1-10f6-4b5f-ae2d-d403a485ddf9",
   "metadata": {},
   "outputs": [
    {
     "data": {
      "image/png": "[encoded data removed]",
      "text/plain": [
       "<Figure size 1000x500 with 1 Axes>"
      ]
     },
     "metadata": {},
     "output_type": "display_data"
    }
   ],
   "source": [
    "plt.figure(figsize=(10, 5))\n",
    "bars = plt.bar(grouped_data.index, grouped_data.values, color='purple', edgecolor='white')\n",
    "\n",
    "plt.title('Average Customer Satisfaction by Frequency of Purchase')\n",
    "plt.xlabel('Frequency of Purchase')\n",
    "plt.ylabel('Average Satisfaction (1 to 10)')\n",
    "plt.ylim(0, 10)\n",
    "plt.bar_label(bars, padding=3, fmt='%.2f')\n",
    "\n",
    "plt.tight_layout()\n",
    "plt.show()\n"
   ]
  },
  {
   "cell_type": "markdown",
   "id": "e0149ac9-3e55-4ab0-ac80-bef16d9e6617",
   "metadata": {},
   "source": [
    "# Insight: Average Satisfaction vs Frequency of Purchase\n",
    "\n",
    "- Customers who purchased **3–4 times** reported the **highest average satisfaction** (around 5.9).\n",
    "- Beyond that, satisfaction levels **fluctuate but remain steady**, showing no major drop or rise.\n",
    "- This indicates that while repeated purchases don’t drastically improve satisfaction, they also do not lead to dissatisfaction — a **positive sign of brand consistency**.\n",
    "\n",
    "# Business Recommendation:\n",
    "\n",
    "- Focus on converting new buyers into **repeat buyers up to 3–4 times**, where satisfaction peaks.\n",
    "- For customers making **5+ purchases**, explore loyalty features (like thank-you rewards) to maintain engagement.\n",
    "- Send personalized surveys or offers to customers with 8+ purchases to identify improvement areas and maintain long-term loyalty.\n"
   ]
  },
  {
   "cell_type": "code",
   "execution_count": 108,
   "id": "20be3e2e-7b60-440b-8154-91db8a69d517",
   "metadata": {},
   "outputs": [],
   "source": [
    "# Categorize customers as \"Quick\" or \"Slow\" based on decision time\n",
    "df['Decision_Type'] = df['Time_to_Decision'].apply(lambda x: 'Quick' if x <= 7 else 'Slow')"
   ]
  },
  {
   "cell_type": "code",
   "execution_count": 112,
   "id": "3eed6538-dea8-4bd9-a5e6-86714b610867",
   "metadata": {},
   "outputs": [],
   "source": [
    "# Compare their average satisfaction\n",
    "grouped = df.groupby('Decision_Type')['Customer_Satisfaction'].mean()"
   ]
  },
  {
   "cell_type": "code",
   "execution_count": 124,
   "id": "1cf129eb-ef29-4f34-a1c6-16d719998069",
   "metadata": {},
   "outputs": [
    {
     "data": {
      "image/png": "[encoded data removed]",
      "text/plain": [
       "<Figure size 600x500 with 1 Axes>"
      ]
     },
     "metadata": {},
     "output_type": "display_data"
    }
   ],
   "source": [
    "\n",
    "plt.figure(figsize=(6, 5))\n",
    "bars = plt.bar(grouped.index, grouped.values, color=['pink', 'yellow'], edgecolor='black')\n",
    "\n",
    "plt.title('Avg Customer Satisfaction by Decision Speed')\n",
    "plt.xlabel('Decision Type')\n",
    "plt.ylabel('Average Satisfaction')\n",
    "plt.ylim(0, 10)\n",
    "plt.grid(axis='y', linestyle='--', alpha=0.5)\n",
    "plt.bar_label(bars, padding=3, fmt='%.2f')\n",
    "plt.tight_layout()\n",
    "plt.show()\n"
   ]
  },
  {
   "cell_type": "markdown",
   "id": "47aa066d-b629-47f3-89e1-f0ec9ec69768",
   "metadata": {},
   "source": [
    "# Insight: Customer Satisfaction by Decision Speed\n",
    "\n",
    "Customers who made **quick decisions (≤7 hours)** reported **higher satisfaction** (5.55) than those who took longer (5.26).\n",
    "This suggests that **decisiveness may lead to greater confidence** in purchases, resulting in a better experience overall.\n",
    "\n",
    "# Business Recommendation:\n",
    "\n",
    "1. Support faster decision-making by showing:\n",
    "  - \"Top Reviewed\" badges\n",
    "  - \"Most Bought in Last 24 Hours\" insights\n",
    "  - Simplified summaries for comparison\n",
    "2. Offer time-based nudges like:\n",
    "  - “Still deciding? Here’s what others chose.”\n",
    "  - “Offer ends in 1 hour!” (for slow decision makers)\n"
   ]
  }
 ],
 "metadata": {
  "kernelspec": {
   "display_name": "Python [conda env:base] *",
   "language": "python",
   "name": "conda-base-py"
  },
  "language_info": {
   "codemirror_mode": {
    "name": "ipython",
    "version": 3
   },
   "file_extension": ".py",
   "mimetype": "text/x-python",
   "name": "python",
   "nbconvert_exporter": "python",
   "pygments_lexer": "ipython3",
   "version": "3.12.7"
  }
 },
 "nbformat": 4,
 "nbformat_minor": 5
}
